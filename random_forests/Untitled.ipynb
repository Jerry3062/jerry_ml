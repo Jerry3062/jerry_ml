{
 "cells": [
  {
   "cell_type": "code",
   "execution_count": 1,
   "metadata": {},
   "outputs": [
    {
     "data": {
      "text/plain": [
       "'D:\\\\PyProject\\\\jerry_ml\\\\random_forests'"
      ]
     },
     "execution_count": 1,
     "metadata": {},
     "output_type": "execute_result"
    }
   ],
   "source": [
    "pwd\n"
   ]
  },
  {
   "cell_type": "code",
   "execution_count": 28,
   "metadata": {},
   "outputs": [
    {
     "name": "stdout",
     "output_type": "stream",
     "text": [
      "0.383838383838\n",
      "0.787878787879\n"
     ]
    }
   ],
   "source": [
    "import pandas\n",
    "data = pandas.read_csv(\"train.csv\")\n",
    "data['age'] = data['age'].fillna(data['age'].median())\n",
    "data.loc[data['sex']=='male','sex']=0\n",
    "data.loc[data['sex']=='female','sex']=1\n",
    "data['embarked'] = data['embarked'].fillna('S')\n",
    "data.loc[data['embarked']=='S','embarked']=0\n",
    "data.loc[data['embarked']=='C','embarked']=1\n",
    "data.loc[data['embarked']=='Q','embarked']=2\n",
    "from sklearn.linear_model import LinearRegression\n",
    "from sklearn.cross_validation import KFold\n",
    "predictors=['pclass','sex','age','sibsp','parch','fare','embarked']\n",
    "linear_regression = LinearRegression()\n",
    "kf = KFold(data.shape[0],n_folds=3,random_state=1)\n",
    "predictions=[]\n",
    "for train,test in kf:\n",
    "    train_predictors=(data[predictors].iloc[train,:])\n",
    "    train_target = data['survived'].iloc[train]\n",
    "    linear_regression.fit(train_predictors,train_target)\n",
    "    test_predictions=linear_regression.predict(data[predictors].iloc[test,:])\n",
    "    predictions.append(test_predictions)\n",
    "import numpy as np\n",
    "predictions = np.concatenate(predictions,axis=0)\n",
    "predictions[predictions>.5]=1\n",
    "predictions[predictions<=.5]=1\n",
    "accuracy=sum(predictions[predictions==data['survived']])/len(predictions)\n",
    "print(accuracy)\n",
    "from sklearn import cross_validation\n",
    "from sklearn.linear_model import LogisticRegression\n",
    "logistic_regression = LogisticRegression()\n",
    "scores = cross_validation.cross_val_score(logistic_regression,data[predictors],data['survived'],cv=3)\n",
    "print(scores.mean())"
   ]
  },
  {
   "cell_type": "code",
   "execution_count": null,
   "metadata": {
    "collapsed": true
   },
   "outputs": [],
   "source": []
  }
 ],
 "metadata": {
  "kernelspec": {
   "display_name": "Python 3",
   "language": "python",
   "name": "python3"
  },
  "language_info": {
   "codemirror_mode": {
    "name": "ipython",
    "version": 3
   },
   "file_extension": ".py",
   "mimetype": "text/x-python",
   "name": "python",
   "nbconvert_exporter": "python",
   "pygments_lexer": "ipython3",
   "version": "3.6.3"
  }
 },
 "nbformat": 4,
 "nbformat_minor": 2
}
